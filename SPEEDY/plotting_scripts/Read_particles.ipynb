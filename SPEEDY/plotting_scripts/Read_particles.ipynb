{
 "cells": [
  {
   "cell_type": "code",
   "execution_count": 1,
   "id": "f0e859a5",
   "metadata": {
    "scrolled": true
   },
   "outputs": [],
   "source": [
    "using Plots\n",
    "using HDF5\n",
    "using Unitful\n",
    "using Statistics\n",
    "using Distributions\n",
    "using Plots.PlotMeasures"
   ]
  },
  {
   "cell_type": "markdown",
   "id": "1ee53711",
   "metadata": {},
   "source": [
    "### Set up the dates array"
   ]
  },
  {
   "cell_type": "code",
   "execution_count": null,
   "id": "1672787a",
   "metadata": {},
   "outputs": [],
   "source": [
    "using Dates\n",
    "\n",
    "IDate = \"1982010100\"\n",
    "endDate = \"1982080100\"\n",
    "SPEEDY_DATE_FORMAT = \"YYYYmmddHH\"\n",
    "dates = collect(DateTime(IDate, SPEEDY_DATE_FORMAT):Dates.Hour(6):DateTime(endDate, SPEEDY_DATE_FORMAT))"
   ]
  },
  {
   "cell_type": "markdown",
   "id": "e327b9cc",
   "metadata": {},
   "source": [
    "### Define Functions"
   ]
  },
  {
   "cell_type": "code",
   "execution_count": null,
   "id": "9341d94a",
   "metadata": {},
   "outputs": [],
   "source": [
    "function read_hdf5_file(filename, timestamp, field, level)\n",
    "    fh = h5open(filename, \"r\")\n",
    "    # println(\"The following datasets found in file \", filename, \": \", keys(fh))\n",
    "    x_st_unit = read(fh[\"station_coordinates\"][\"lon\"][\"Unit\"])\n",
    "    y_st_unit = read(fh[\"station_coordinates\"][\"lat\"][\"Unit\"])\n",
    "    x_st = read(fh[\"station_coordinates\"][\"lon\"]) .* uparse(x_st_unit) .|> u\"°\"\n",
    "    y_st = read(fh[\"station_coordinates\"][\"lat\"]) .* uparse(y_st_unit) .|> u\"°\"\n",
    "    return fh, x_st, y_st\n",
    "end\n",
    "\n",
    "function read_hdf5_truth(filename, timestamp, field, unit_comp, level)\n",
    "    th = h5open(filename, \"r\")\n",
    "    field_unit = \"hPa\"\n",
    "    field_desc = read(th[\"state\"][timestamp][field][\"Description\"]);\n",
    "    z_truth = read(th[\"state\"][timestamp][field]) .* uparse(field_unit);\n",
    "    return z_truth[:,:,level].*unit_comp\n",
    "end\n",
    "\n",
    "function find_gauge_location(gauge_id, gauges_lon, gauges_lat, state_lon, state_lat)\n",
    "    pointx = findmin((abs.(state_lon .- ustrip(gauges_lon[gauge_id]))))[2]\n",
    "    pointy = findmin((abs.(state_lat .- ustrip(gauges_lat[gauge_id]))))[2]\n",
    "    return pointx, pointy\n",
    "end\n",
    "\n",
    "function loop_over_particles(fh, timestamp, field, unit_comp, pointx, pointy)\n",
    "    field_unit = read(fh[\"state_particle_1\"][timestamp][field][\"Unit\"])\n",
    "    field_desc = read(fh[\"state_particle_1\"][timestamp][field][\"Description\"])\n",
    "    psA = Float64[]\n",
    "    for it = 1:256\n",
    "        particle = read(fh[string(\"state_particle_\",string(it))][timestamp][field]);\n",
    "        push!(psA, particle[pointx,pointy,level]*unit_comp)\n",
    "    end\n",
    "    return psA\n",
    "end\n",
    "\n",
    "function plotting(particles, z_truth, gauge_id, pointx, pointy, state_lon, state_lat, timestamp, date, output_folder)\n",
    "    distA = Normal(mean(particles),std(particles))\n",
    "    targetx = z_truth[pointx,pointy]\n",
    "    skew, kurt = round(skewness(particles), digits = 3), round(kurtosis(particles), digits = 3)\n",
    "    longitude = round(state_lon[pointx], digits = 2)\n",
    "    latitude = round(state_lat[pointy], digits = 2)\n",
    "    histogram(particles, xlabel=\"Surface Pressure\", label=\"\", linecolor = \"white\", normalize = true, top_margin = 12px, title=\"Observation Location ($longitude °, $latitude °) \\n $date\")\n",
    "    vline!([targetx], seriestype = :scatter, color=:red, label=\"True Value\")\n",
    "    plot!(x->pdf(distA, x), label=\"Fitted Gaussian\", bottom_margin = 12px)\n",
    "    plot!(size=(1000,400), dpi=300)\n",
    "    vline!([mean(particles)], seriestype = :scatter, color=:black, label=\"Mean Value\")\n",
    "\n",
    "    sub_dir = joinpath(output_folder,timestamp) \n",
    "\n",
    "    if isdir(sub_dir) == false\n",
    "        mkdir(sub_dir)\n",
    "    end\n",
    "    \n",
    "    savefig(joinpath(sub_dir,string(gauge_id)))\n",
    "    \n",
    "    # if abs(skew) > 0.5 || abs(kurt) > 1.0\n",
    "    #     @show gauge_id, timestamp\n",
    "    # end\n",
    "end"
   ]
  },
  {
   "attachments": {},
   "cell_type": "markdown",
   "id": "92027be6",
   "metadata": {},
   "source": [
    "# Load Filter output file"
   ]
  },
  {
   "cell_type": "code",
   "execution_count": null,
   "id": "e1a99fb4",
   "metadata": {},
   "outputs": [],
   "source": [
    "timestamp = [\"t0000\", \"t0025\", \"t0050\", \"t0075\", \"t0100\", \"t0125\", \"t0150\", \"t0175\", \"t0200\", \"t0225\", \"t0250\"]\n",
    "field = \"ps\" # Choose from the fields listed above\n",
    "unit_comp = 0.01 # Convert Pa to hPa\n",
    "field_unit = \"hPa\"\n",
    "output_folder = \"\"\n",
    "level = 1\n",
    "\n",
    "truth_filename = joinpath(output_folder, \"obs.h5\")\n",
    "filename = joinpath(output_folder,\"optimal.h5\")\n",
    "plot_folder = joinpath(output_folder, \"particles\")\n",
    "#Loop through all the gauges and produce the distributions\n",
    "fh, x_st, y_st = read_hdf5_file(filename, timestamp[1], field, level)\n",
    "gauges_lon = ustrip(x_st)\n",
    "gauges_lat = ustrip(y_st)\n",
    "state_lon = range(0,180,48)\n",
    "state_lat = range(0,360,96)\n",
    "for time in timestamp\n",
    "    number=parse(Int64,split(time,'t')[2]);\n",
    "    @show time, dates[number+1]\n",
    "    fh, x_st, y_st = read_hdf5_file(filename, time, field, level)\n",
    "    z_truth = read_hdf5_truth(truth_filename, time, field, unit_comp, level)\n",
    "    for gauge_id = 1:50\n",
    "        pointx, pointy = find_gauge_location(gauge_id, gauges_lon, gauges_lat, state_lon, state_lat)\n",
    "        particles = loop_over_particles(fh, time, field, unit_comp, pointx, pointy)\n",
    "        plotting(particles, z_truth, gauge_id, pointx, pointy, state_lon, state_lat, time, dates[number+1], plot_folder)\n",
    "    end\n",
    "end"
   ]
  }
 ],
 "metadata": {
  "@webio": {
   "lastCommId": null,
   "lastKernelId": null
  },
  "kernelspec": {
   "display_name": "Julia 1.8.1",
   "language": "julia",
   "name": "julia-1.8"
  },
  "language_info": {
   "file_extension": ".jl",
   "mimetype": "application/julia",
   "name": "julia",
   "version": "1.8.1"
  }
 },
 "nbformat": 4,
 "nbformat_minor": 5
}
