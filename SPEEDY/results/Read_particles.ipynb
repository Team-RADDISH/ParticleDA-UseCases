{
 "cells": [
  {
   "cell_type": "code",
   "execution_count": 27,
   "id": "f0e859a5",
   "metadata": {
    "scrolled": true
   },
   "outputs": [],
   "source": [
    "using Plots\n",
    "using HDF5\n",
    "using Unitful\n",
    "using UnitfulRecipes\n",
    "using Statistics\n",
    "using Distributions\n",
    "using Plots.PlotMeasures"
   ]
  },
  {
   "cell_type": "markdown",
   "id": "92027be6",
   "metadata": {},
   "source": [
    "# Load Filter output file"
   ]
  },
  {
   "cell_type": "code",
   "execution_count": 39,
   "id": "e1a99fb4",
   "metadata": {},
   "outputs": [
    {
     "name": "stdout",
     "output_type": "stream",
     "text": [
      "time = \"t0000\"\n",
      "(gauge_id, timestamp) = "
     ]
    },
    {
     "name": "stdout",
     "output_type": "stream",
     "text": [
      "(2, \"t0000\")\n",
      "(gauge_id, timestamp) = (4, \"t0000\")\n",
      "(gauge_id, timestamp) = "
     ]
    },
    {
     "name": "stdout",
     "output_type": "stream",
     "text": [
      "(5, \"t0000\")\n"
     ]
    },
    {
     "name": "stdout",
     "output_type": "stream",
     "text": [
      "(gauge_id, timestamp) = (10, \"t0000\")\n",
      "(gauge_id, timestamp) = (12, \"t0000\")\n"
     ]
    },
    {
     "name": "stdout",
     "output_type": "stream",
     "text": [
      "(gauge_id, timestamp) = (13, \"t0000\")\n",
      "(gauge_id, timestamp) = "
     ]
    },
    {
     "name": "stdout",
     "output_type": "stream",
     "text": [
      "(15, \"t0000\")\n",
      "(gauge_id, timestamp) = (16, \"t0000\")\n",
      "(gauge_id, timestamp) = (17, \"t0000\")\n"
     ]
    },
    {
     "name": "stdout",
     "output_type": "stream",
     "text": [
      "(gauge_id, timestamp) = (18, \"t0000\")\n",
      "(gauge_id, timestamp) = "
     ]
    },
    {
     "name": "stdout",
     "output_type": "stream",
     "text": [
      "(22, \"t0000\")\n"
     ]
    },
    {
     "name": "stdout",
     "output_type": "stream",
     "text": [
      "(gauge_id, timestamp) = (32, \"t0000\")\n",
      "(gauge_id, timestamp) = (33, \"t0000\")\n"
     ]
    },
    {
     "name": "stdout",
     "output_type": "stream",
     "text": [
      "(gauge_id, timestamp) = (37, \"t0000\")\n",
      "(gauge_id, timestamp) = (38, \"t0000\")\n"
     ]
    },
    {
     "name": "stdout",
     "output_type": "stream",
     "text": [
      "(gauge_id, timestamp) = (41, \"t0000\")\n",
      "(gauge_id, timestamp) = (42, \"t0000\")\n",
      "(gauge_id, timestamp) = (43, \"t0000\")\n",
      "(gauge_id, timestamp) = "
     ]
    },
    {
     "name": "stdout",
     "output_type": "stream",
     "text": [
      "(46, \"t0000\")\n",
      "(gauge_id, timestamp) = (48, \"t0000\")\n",
      "(gauge_id, timestamp) = "
     ]
    },
    {
     "name": "stdout",
     "output_type": "stream",
     "text": [
      "(49, \"t0000\")\n",
      "(gauge_id, timestamp) = (50, \"t0000\")\n",
      "time = \"t0100\"\n"
     ]
    },
    {
     "name": "stdout",
     "output_type": "stream",
     "text": [
      "time = \"t0200\"\n",
      "(gauge_id, timestamp) = "
     ]
    },
    {
     "name": "stdout",
     "output_type": "stream",
     "text": [
      "(38, \"t0200\")\n"
     ]
    },
    {
     "name": "stdout",
     "output_type": "stream",
     "text": [
      "(gauge_id, timestamp) = (41, \"t0200\")\n",
      "(gauge_id, timestamp) = (42, \"t0200\")\n"
     ]
    },
    {
     "name": "stdout",
     "output_type": "stream",
     "text": [
      "(gauge_id, timestamp) = (49, \"t0200\")\n",
      "time = \"t0300\"\n"
     ]
    },
    {
     "name": "stdout",
     "output_type": "stream",
     "text": [
      "time = \"t0400\"\n",
      "time = "
     ]
    },
    {
     "name": "stdout",
     "output_type": "stream",
     "text": [
      "\"t0500\"\n"
     ]
    },
    {
     "name": "stdout",
     "output_type": "stream",
     "text": [
      "time = \"t0600\"\n",
      "time = "
     ]
    },
    {
     "name": "stdout",
     "output_type": "stream",
     "text": [
      "\"t0700\"\n"
     ]
    },
    {
     "name": "stdout",
     "output_type": "stream",
     "text": [
      "time = \"t0800\"\n",
      "time = "
     ]
    },
    {
     "name": "stdout",
     "output_type": "stream",
     "text": [
      "\"t0900\"\n"
     ]
    },
    {
     "name": "stdout",
     "output_type": "stream",
     "text": [
      "time = \"t1000\"\n",
      "time = "
     ]
    },
    {
     "name": "stdout",
     "output_type": "stream",
     "text": [
      "\"t1100\"\n"
     ]
    },
    {
     "name": "stdout",
     "output_type": "stream",
     "text": [
      "time = \"t1200\"\n",
      "time = "
     ]
    },
    {
     "name": "stdout",
     "output_type": "stream",
     "text": [
      "\"t1300\"\n"
     ]
    },
    {
     "name": "stdout",
     "output_type": "stream",
     "text": [
      "time = \"t1400\"\n",
      "time = "
     ]
    },
    {
     "name": "stdout",
     "output_type": "stream",
     "text": [
      "\"t1500\"\n"
     ]
    },
    {
     "name": "stdout",
     "output_type": "stream",
     "text": [
      "time = \"t1600\"\n"
     ]
    }
   ],
   "source": [
    "timestamp = [\"t0000\",\"t0100\", \"t0200\",\"t0300\",\"t0400\",\"t0500\",\"t0600\",\"t0700\",\"t0800\",\"t0900\",\"t1000\", \"t1100\", \"t1200\",\"t1300\",\"t1400\",\"t1500\",\"t1600\"] # Edit this value to plot a different time slice from the list above\n",
    "field = \"ps\" # Choose from the fields listed above\n",
    "output_folder = \"uniform/\"\n",
    "unit_comp = 0.01\n",
    "level = 1\n",
    "\n",
    "truth_filename = \"\"\n",
    "filename = joinpath(output_folder,\"\")\n",
    "plot_folder = \"\"\n",
    "#Loop through all the gauges and produce the distributions\n",
    "fh, x_st, y_st = read_hdf5_file(filename, timestamp[1], field, level)\n",
    "gauges_lon = ustrip(x_st)\n",
    "gauges_lat = ustrip(y_st)\n",
    "state_lon = range(0,180,48)\n",
    "state_lat = range(0,360,96)\n",
    "for time in timestamp\n",
    "    @show time\n",
    "    fh, x_st, y_st = read_hdf5_file(filename, time, field, level)\n",
    "    z_truth = read_hdf5_truth(truth_filename, time, field, unit_comp, level)\n",
    "    for gauge_id = 1:50\n",
    "        pointx, pointy = find_gauge_location(gauge_id, gauges_lon, gauges_lat, state_lon, state_lat)\n",
    "        particles = loop_over_particles(fh, time, field, unit_comp, pointx, pointy)\n",
    "        plotting(particles, z_truth, gauge_id, pointx, pointy, state_lon, state_lat, time, plot_folder)\n",
    "    end\n",
    "end"
   ]
  },
  {
   "cell_type": "code",
   "execution_count": 28,
   "id": "29d5432f",
   "metadata": {},
   "outputs": [
    {
     "data": {
      "text/plain": [
       "read_hdf5_file (generic function with 1 method)"
      ]
     },
     "metadata": {},
     "output_type": "display_data"
    }
   ],
   "source": [
    "\n",
    "function read_hdf5_file(filename, timestamp, field, level)\n",
    "    fh = h5open(filename, \"r\")\n",
    "    # println(\"The following datasets found in file \", filename, \": \", keys(fh))\n",
    "    x_st_unit = read(fh[\"station_coordinates\"][\"lon\"][\"Unit\"])\n",
    "    y_st_unit = read(fh[\"station_coordinates\"][\"lat\"][\"Unit\"])\n",
    "    x_st = read(fh[\"station_coordinates\"][\"lon\"]) .* uparse(x_st_unit) .|> u\"°\"\n",
    "    y_st = read(fh[\"station_coordinates\"][\"lat\"]) .* uparse(y_st_unit) .|> u\"°\"\n",
    "    return fh, x_st, y_st\n",
    "end"
   ]
  },
  {
   "cell_type": "code",
   "execution_count": 29,
   "id": "51515ed1",
   "metadata": {},
   "outputs": [
    {
     "data": {
      "text/plain": [
       "read_hdf5_truth (generic function with 1 method)"
      ]
     },
     "metadata": {},
     "output_type": "display_data"
    }
   ],
   "source": [
    "function read_hdf5_truth(filename, timestamp, field, unit_comp, level)\n",
    "    th = h5open(filename, \"r\")\n",
    "    field_unit = \"hPa\"\n",
    "    field_desc = read(th[\"data_nature\"][timestamp][field][\"Description\"]);\n",
    "    z_truth = read(th[\"data_nature\"][timestamp][field]) .* uparse(field_unit);\n",
    "    return z_truth[:,:,level].*unit_comp\n",
    "end"
   ]
  },
  {
   "cell_type": "code",
   "execution_count": 30,
   "id": "2f6389c4",
   "metadata": {},
   "outputs": [
    {
     "data": {
      "text/plain": [
       "find_gauge_location (generic function with 1 method)"
      ]
     },
     "metadata": {},
     "output_type": "display_data"
    }
   ],
   "source": [
    "function find_gauge_location(gauge_id, gauges_lon, gauges_lat, state_lon, state_lat)\n",
    "    pointx = findmin((abs.(state_lon .- ustrip(gauges_lon[gauge_id]))))[2]\n",
    "    pointy = findmin((abs.(state_lat .- ustrip(gauges_lat[gauge_id]))))[2]\n",
    "    return pointx, pointy\n",
    "end"
   ]
  },
  {
   "cell_type": "code",
   "execution_count": 31,
   "id": "00929034",
   "metadata": {},
   "outputs": [
    {
     "data": {
      "text/plain": [
       "loop_over_particles (generic function with 1 method)"
      ]
     },
     "metadata": {},
     "output_type": "display_data"
    }
   ],
   "source": [
    "function loop_over_particles(fh, timestamp, field, unit_comp, pointx, pointy)\n",
    "    field_unit = read(fh[\"state_particle_1\"][timestamp][field][\"Unit\"])\n",
    "    field_desc = read(fh[\"state_particle_1\"][timestamp][field][\"Description\"])\n",
    "    psA = Float64[]\n",
    "    for it = 1:256\n",
    "        particle = read(fh[string(\"state_particle_\",string(it))][timestamp][field]);\n",
    "        push!(psA, particle[pointx,pointy,level]*unit_comp)\n",
    "    end\n",
    "    return psA\n",
    "end"
   ]
  },
  {
   "cell_type": "code",
   "execution_count": 38,
   "id": "7e6382f2",
   "metadata": {},
   "outputs": [
    {
     "data": {
      "text/plain": [
       "plotting (generic function with 1 method)"
      ]
     },
     "metadata": {},
     "output_type": "display_data"
    }
   ],
   "source": [
    "function plotting(particles, z_truth, gauge_id, pointx, pointy, state_lon, state_lat, timestamp, output_folder)\n",
    "    distA = Normal(mean(particles),std(particles))\n",
    "    targetx = z_truth[pointx,pointy]\n",
    "    skew, kurt = round(skewness(particles), digits = 3), round(kurtosis(particles), digits = 3)\n",
    "    longitude = round(state_lon[pointx], digits = 2)\n",
    "    latitude = round(state_lat[pointy], digits = 2)\n",
    "    histogram(particles, xlabel=\"Surface Pressure\", label=\"\", linecolor = \"white\", normalize = true, top_margin = 12px, title=\"Histogram of Surface Pressure at ($longitude °, $latitude °) \\n Skewness = $skew  Kurtosis = $kurt\")\n",
    "    vline!([targetx], seriestype = :scatter, color=:red, label=\"True Value\")\n",
    "    plot!(x->pdf(distA, x), label=\"Fitted Gaussian\", bottom_margin = 12px)\n",
    "    plot!(size=(1000,400))\n",
    "    vline!([mean(particles)], seriestype = :scatter, color=:black, label=\"Mean Value\")\n",
    "    savefig(joinpath(output_folder,timestamp,string(gauge_id)))\n",
    "    if abs(skew) > 0.5 || abs(kurt) > 1.0\n",
    "        @show gauge_id, timestamp\n",
    "    end\n",
    "    # skewness(psA), kurtosis(psA)\n",
    "end"
   ]
  },
  {
   "cell_type": "code",
   "execution_count": null,
   "id": "ac081cb2",
   "metadata": {},
   "outputs": [],
   "source": [
    "using StatsBase\n",
    "using Random\n",
    "Random.seed!(1234)\n",
    "xsamp = rand(distC,size(psC))\n",
    "# skewness(xsamp), kurtosis(xsamp)\n",
    "histogram(xsamp.+20)\n",
    "histogram!(psC.+20)\n",
    "kldivergence(sort(xsamp.+20),sort(psC.+20), mean(psC)+20)"
   ]
  }
 ],
 "metadata": {
  "@webio": {
   "lastCommId": null,
   "lastKernelId": null
  },
  "kernelspec": {
   "display_name": "Julia 1.8.1",
   "language": "julia",
   "name": "julia-1.8"
  },
  "language_info": {
   "file_extension": ".jl",
   "mimetype": "application/julia",
   "name": "julia",
   "version": "1.8.1"
  }
 },
 "nbformat": 4,
 "nbformat_minor": 5
}
