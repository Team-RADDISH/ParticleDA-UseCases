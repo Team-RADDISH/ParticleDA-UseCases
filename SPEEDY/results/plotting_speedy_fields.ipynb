{
 "cells": [
  {
   "cell_type": "code",
   "execution_count": 1,
   "id": "f0e859a5",
   "metadata": {
    "scrolled": true
   },
   "outputs": [],
   "source": [
    "using Plots\n",
    "using HDF5\n",
    "using Unitful\n",
    "using Statistics\n",
    "using Dates\n",
    "using Plots.PlotMeasures\n",
    "using GeoDatasets"
   ]
  },
  {
   "attachments": {},
   "cell_type": "markdown",
   "id": "92027be6",
   "metadata": {},
   "source": [
    "# Load Filter output file"
   ]
  },
  {
   "cell_type": "code",
   "execution_count": 7,
   "id": "78f041c8",
   "metadata": {},
   "outputs": [],
   "source": [
    "field = \"ps\" # Choose from the fields listed above\n",
    "unit_comp = 0.01 # Convert Pa to hPa\n",
    "field_unit = \"hPa\"\n",
    "output_folder = \"reviewer_setup\"\n",
    "# Open the output file\n",
    "fh = h5open(joinpath(output_folder, \"optimal.h5\"), \"r\");\n",
    "\n",
    "# Open the Naive Ensmeble\n",
    "fh_naive = h5open(joinpath(output_folder, \"naive.h5\"), \"r\");\n",
    "\n",
    "# Open the Nature Run\n",
    "th = h5open(joinpath(output_folder, \"obs.h5\"), \"r\");"
   ]
  },
  {
   "cell_type": "markdown",
   "id": "eb63c6dd",
   "metadata": {},
   "source": [
    "### Read in the Coordinates\n"
   ]
  },
  {
   "cell_type": "code",
   "execution_count": null,
   "id": "ce3ed8fe",
   "metadata": {},
   "outputs": [],
   "source": [
    "## Read in the coordinates\n",
    "timestamp = \"t0000\"\n",
    "x_unit = read(fh[\"grid_coordinates\"][\"lon\"][\"Unit\"])\n",
    "y_unit = read(fh[\"grid_coordinates\"][\"lat\"][\"Unit\"])\n",
    "x_st_unit = read(fh[\"station_coordinates\"][\"lon\"][\"Unit\"])\n",
    "y_st_unit = read(fh[\"station_coordinates\"][\"lat\"][\"Unit\"])\n",
    "\n",
    "field_desc = read(fh[\"state_avg\"][timestamp][field][\"Description\"])\n",
    "\n",
    "x = read(fh[\"grid_coordinates\"][\"lon\"]) .* uparse(x_unit) .|> u\"°\"\n",
    "y = read(fh[\"grid_coordinates\"][\"lat\"]) .* uparse(y_unit) .|> u\"°\"\n",
    "\n",
    "\n",
    "x_st = read(fh[\"station_coordinates\"][\"lon\"]) .* uparse(x_st_unit) .|> u\"°\"\n",
    "y_st = read(fh[\"station_coordinates\"][\"lat\"]) .* uparse(y_st_unit) .|> u\"°\""
   ]
  },
  {
   "cell_type": "markdown",
   "id": "730e6a2a",
   "metadata": {},
   "source": [
    "### Set up the dates array"
   ]
  },
  {
   "cell_type": "code",
   "execution_count": 9,
   "id": "67de2d57",
   "metadata": {},
   "outputs": [],
   "source": [
    "IDate = \"1982010100\"\n",
    "endDate = \"1982080100\"\n",
    "SPEEDY_DATE_FORMAT = \"YYYYmmddHH\"\n",
    "dates = collect(DateTime(IDate, SPEEDY_DATE_FORMAT):Dates.Hour(6):DateTime(endDate, SPEEDY_DATE_FORMAT));"
   ]
  },
  {
   "attachments": {},
   "cell_type": "markdown",
   "id": "52b54a8e",
   "metadata": {},
   "source": [
    "# Spatial RMSE"
   ]
  },
  {
   "cell_type": "code",
   "execution_count": 10,
   "id": "220ebd49",
   "metadata": {},
   "outputs": [],
   "source": [
    "function spatial_error(ens_file, truth_file, len, error_type)\n",
    "    nlon = 96\n",
    "    nlat = 48\n",
    "    level = 1\n",
    "    spatial_err = zeros(nlon, nlat, len)\n",
    "    for it = 0:len-1\n",
    "        timestamp = \"t\" * lpad(string(it),4,'0')\n",
    "        z_truth = read(truth_file[\"state\"][timestamp][field]).*unit_comp\n",
    "        z_avg = read(ens_file[\"state_avg\"][timestamp][field]).*unit_comp\n",
    "        \n",
    "        if error_type == \"Lmax\"\n",
    "            spatial_err[:,:,it+1] .= abs.(z_truth[:,:,level] - z_avg[:,:,level])\n",
    "        else\n",
    "            spatial_err[:,:,it+1] .= ((z_truth[:,:,level] - z_avg[:,:,level]).^2)\n",
    "        end\n",
    "\n",
    "    end\n",
    "\n",
    "    if error_type == \"Lmax\"\n",
    "        ret_err = maximum(spatial_err, dims=3)\n",
    "    else\n",
    "        ret_err = sqrt.(mean(spatial_err, dims=3))\n",
    "    end\n",
    "\n",
    "    return ret_err\n",
    "end\n",
    "\n",
    "\n",
    "len = length(keys(fh[\"state_avg\"]))\n",
    "ens_error = spatial_error(fh, th, len, \"L2\");\n",
    "naive_error = spatial_error(fh_naive, th, len, \"L2\");\n",
    "\n"
   ]
  },
  {
   "cell_type": "markdown",
   "id": "605995f3",
   "metadata": {},
   "source": [
    "## Plotting the Error Fields"
   ]
  },
  {
   "cell_type": "code",
   "execution_count": null,
   "id": "702320cd",
   "metadata": {},
   "outputs": [],
   "source": [
    "function plot_error_std(x, y, lon_coast, lat_coast, z_t, z_avg, ens_error, naive_error, date, x_st, y_st, coast_outline)\n",
    "\n",
    "    p1 = heatmap(x, y, transpose(z_t); title=\"Surface Pressure \\n $date\")\n",
    "    p1 = Plots.contour!(lon_coast, lat_coast, 800*(coast_outline)', c = :blues)\n",
    "\n",
    "    p2 = heatmap(x, y, transpose(z_avg); title=\"Assimilated Surface Pressure (μ) \\n $date\")\n",
    "    p2 = Plots.contour!(lon_coast, lat_coast, 800*(coast_outline)', c = :blues)\n",
    "\n",
    "    p3 = heatmap(x, y, transpose(ens_error); title=\"Time averaged error for the ensemble \\n (assimilation)\")\n",
    "    p3 = Plots.contour!(lon_coast, lat_coast, 5*(coast_outline)', c = :blues)\n",
    "\n",
    "    p4 = heatmap(x, y, transpose(naive_error); title=\"Time averaged error for the ensemble \\n (no assimilation)\")\n",
    "    p4 = Plots.contour!(lon_coast, lat_coast, 5*(coast_outline)', c = :blues)\n",
    "\n",
    "    for (i, plt) in enumerate((p1, p2, p3, p4))\n",
    "        # Set labels\n",
    "        i ∈ (2) && Plots.plot!(plt; labelfontsize=20, tickfontsize=18)\n",
    "        i ∈ (1,3) && Plots.plot!(plt; ylabel=\"Lat (°)\", labelfontsize=20, tickfontsize=18)\n",
    "        i ∈ (3,4) && Plots.plot!(plt; xlabel=\"Lon (°)\", labelfontsize=20, tickfontsize=18)\n",
    "        # Set range of color bar for first two plots\n",
    "        i ∈ (1, 2) && plot!(plt; clims=(minimum(ustrip(z_t)), maximum(ustrip(z_t))))\n",
    "        i ∈ (3, 4) && plot!(plt; clims=(0.0, maximum(ustrip(naive_error))))\n",
    "        # Add the positions of the stations\n",
    "        i ∈ (1, 2, 3, 4) && Plots.scatter!(plt, x_st, y_st, color=:black, marker=:star, label=\"Observation Locations\")\n",
    "    end\n",
    "    l = @layout[grid(2, 2)]\n",
    "    Plots.plot(p1, p2, p3, p4, layout = l, titlefontsize=24, guidefontsize=20, colorbar_titlefontsize = 20, legendfontsize=12, legendtitlefontsize=12, left_margin = 40px, right_margin = 40px, bottom_margin = 40px, dpi=300)\n",
    "    Plots.plot!(size=(2100,1700))\n",
    "    Plots.savefig(\"reviewer_setup/speedy_runs_ensemble.png\")\n",
    "    Plots.savefig(\"reviewer_setup/speedy_runs_ensemble.pdf\")\n",
    "end\n",
    "\n",
    "lon_coast, lat_coast, landsea = GeoDatasets.landseamask(;resolution='c',grid=10)\n",
    "coast = zeros(size(landsea))\n",
    "landsea[landsea .== 2] .= 1\n",
    "\n",
    "# Flip the coast data\n",
    "coast[1:1080, 1:1080] .= landsea[1081:2160,1:1080]\n",
    "coast[1081:2160,1:1080] .= landsea[1:1080, 1:1080]\n",
    "\n",
    "lon_coast = lon_coast .+ 180\n",
    "lat_coast = lat_coast .+ 90\n",
    "\n",
    "x_plot = range(0,360,96)\n",
    "y_plot = range(0,180,48)\n",
    "\n",
    "timestamp = \"t0250\"\n",
    "number = parse(Int64, split(timestamp,'t')[2]);\n",
    "\n",
    "# Read in state at timestamp and scale to hPa\n",
    "z_truth = read(th[\"state\"][timestamp][field]) .* uparse(field_unit).*unit_comp\n",
    "z_avg = read(fh[\"state_avg\"][timestamp][field]) .* uparse(field_unit).*unit_comp\n",
    "\n",
    "plot_error_std(x_plot, y_plot, lon_coast, lat_coast, z_truth[:,:,1], z_avg[:,:,1], ens_error[:,:,1].* uparse(field_unit), naive_error[:,:,1].* uparse(field_unit), dates[number+1], ustrip(x_st), ustrip(y_st), coast)\n"
   ]
  },
  {
   "attachments": {},
   "cell_type": "markdown",
   "id": "ddf0eb8b",
   "metadata": {},
   "source": [
    "## Estimated Ensemble Size"
   ]
  },
  {
   "cell_type": "code",
   "execution_count": null,
   "id": "b596da55",
   "metadata": {},
   "outputs": [],
   "source": [
    "plot([1 / sum(read(w) .^ 2) for w in fh[\"weights\"]];\n",
    "     label=\"\", marker=:o, xlabel=\"Date\", ylabel=\"Estimated Sample Size\", title=\"Optimal Proposal\")"
   ]
  }
 ],
 "metadata": {
  "@webio": {
   "lastCommId": null,
   "lastKernelId": null
  },
  "kernelspec": {
   "display_name": "Julia 1.8.1",
   "language": "julia",
   "name": "julia-1.8"
  },
  "language_info": {
   "file_extension": ".jl",
   "mimetype": "application/julia",
   "name": "julia",
   "version": "1.8.1"
  }
 },
 "nbformat": 4,
 "nbformat_minor": 5
}
